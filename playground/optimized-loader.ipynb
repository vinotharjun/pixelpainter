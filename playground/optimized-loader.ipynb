{
 "cells": [
  {
   "cell_type": "code",
   "execution_count": 2,
   "metadata": {},
   "outputs": [],
   "source": [
    "import threading\n",
    "from threading import Thread\n",
    "import numpy as np\n",
    "# import cv2\n",
    "import os\n",
    "import random\n",
    "import time\n",
    "import sys\n",
    "from queue import Empty,Full,Queue\n",
    "from PIL import Image"
   ]
  },
  {
   "cell_type": "code",
   "execution_count": 3,
   "metadata": {},
   "outputs": [],
   "source": [
    "class threadsafe_iter:\n",
    "    def __init__(self, it):\n",
    "        self.it = it\n",
    "        self.lock = threading.Lock()\n",
    "    def __iter__(self):\n",
    "        return self\n",
    "    def __next__(self):\n",
    "        with self.lock:\n",
    "            return next(self.it)\n",
    "def get_path_i(paths_count):\n",
    "    current_path_id = 0\n",
    "    while True:\n",
    "        yield current_path_id\n",
    "        current_path_id  = (current_path_id + 1) % paths_count"
   ]
  },
  {
   "cell_type": "code",
   "execution_count": 3,
   "metadata": {},
   "outputs": [],
   "source": [
    "b=iter([1,2])\n",
    "a=threadsafe_iter(b)"
   ]
  },
  {
   "cell_type": "code",
   "execution_count": null,
   "metadata": {},
   "outputs": [],
   "source": []
  },
  {
   "cell_type": "code",
   "execution_count": 4,
   "metadata": {},
   "outputs": [
    {
     "name": "stdout",
     "output_type": "stream",
     "text": [
      "1\n",
      "2\n"
     ]
    }
   ],
   "source": [
    "for i in a:\n",
    "    print(i)"
   ]
  },
  {
   "cell_type": "code",
   "execution_count": 4,
   "metadata": {},
   "outputs": [],
   "source": [
    "class InputGen:\n",
    "    def __init__(self, paths, batch_size):\n",
    "        self.paths = paths\n",
    "        self.index = 0\n",
    "        self.batch_size = batch_size\n",
    "        self.init_count = 0\n",
    "        self.lock = threading.Lock() #mutex for input path\n",
    "        self.yield_lock = threading.Lock() #mutex for generator yielding of batch\n",
    "        self.path_id_generator = threadsafe_iter(get_path_i(len(self.paths))) \n",
    "        self.images = []\n",
    "    \n",
    "    def get_samples_count(self):\n",
    "        \"\"\" Returns the total number of images needed to train an epoch \"\"\"\n",
    "        return len(self.paths)\n",
    "    def get_batches_count(self):\n",
    "        \"\"\" Returns the total number of batches needed to train an epoch \"\"\"\n",
    "        return int(self.get_samples_count() / self.batch_size)\n",
    "    def pre_process_input(self, im,lb):\n",
    "        \"\"\" Do your pre-processing here\n",
    "                Need to be thread-safe function\"\"\"\n",
    "        return im, lb\n",
    "    def next(self):\n",
    "        return self.__iter__()\n",
    "    \n",
    "    def __iter__(self):\n",
    "        while True:\n",
    "          #In the start of each epoch we shuffle the data paths      \n",
    "          with self.lock: \n",
    "            if (self.init_count == 0):\n",
    "                random.shuffle(self.paths)\n",
    "                self.images, self.batch_paths = [], []\n",
    "                self.init_count = 1\n",
    "      #Iterates through the input paths in a thread-safe manner\n",
    "          for path_id in self.path_id_generator: \n",
    "            img = self.paths[path_id]\n",
    "            print(img)\n",
    "            img = cv2.imread(img,1)\n",
    "#             img, label = self.pre_process_input(img)\n",
    "            #Concurrent access by multiple threads to the lists below\n",
    "            with self.yield_lock: \n",
    "                if (len(self.images)) < self.batch_size:\n",
    "                    print(img.shape)\n",
    "                    self.images.append(img)\n",
    "                if len(self.images) % self.batch_size == 0:          \n",
    "                    yield np.float32(self.images)\n",
    "                self.images = []\n",
    "          #At the end of an epoch we re-init data-structures\n",
    "          with self.lock: \n",
    "            self.init_count = 0\n",
    "    def __call__(self):\n",
    "        return self.__iter__()\n"
   ]
  },
  {
   "cell_type": "code",
   "execution_count": 5,
   "metadata": {},
   "outputs": [],
   "source": [
    "class thread_killer(object):\n",
    "    def __init__(self):\n",
    "        self.to_kill = False\n",
    "  \n",
    "    def __call__(self):\n",
    "        return self.to_kill\n",
    "  \n",
    "    def set_tokill(self,tokill):\n",
    "        self.to_kill = tokill"
   ]
  },
  {
   "cell_type": "code",
   "execution_count": 15,
   "metadata": {},
   "outputs": [],
   "source": [
    "def threaded_batches_feeder(tokill, batches_queue, dataset_generator):\n",
    "    while tokill() == False:\n",
    "        for batch,batch_images in enumerate(dataset_generator):\n",
    "            #We fill the queue with new fetched batch until we reach the max       size.\n",
    "            batches_queue.put((batch, (batch_images)), block=True)\n",
    "            if tokill() == True:\n",
    "                return\n"
   ]
  },
  {
   "cell_type": "code",
   "execution_count": 16,
   "metadata": {},
   "outputs": [],
   "source": [
    "def threaded_cuda_batches(tokill,cuda_batches_queue,batches_queue):\n",
    "    \n",
    "    while tokill() == False:\n",
    "        batch, (batch_images) = batches_queue.get(block=True)\n",
    "        batch_images_np = np.transpose(batch_images, (0, 3, 1, 2))\n",
    "        batch_images = torch.from_numpy(batch_images_np)\n",
    "        batch_images = Variable(batch_images)\n",
    "        cuda_batches_queue.put((batch, (batch_images)), block=True)\n",
    "        if tokill() == True:\n",
    "            return"
   ]
  },
  {
   "cell_type": "code",
   "execution_count": 17,
   "metadata": {},
   "outputs": [],
   "source": [
    "num_epoches=1000\n",
    "preprocess_workers = 4\n",
    "batches_per_epoch = 8\n",
    "path = \"../dataset/256/\""
   ]
  },
  {
   "cell_type": "code",
   "execution_count": 9,
   "metadata": {},
   "outputs": [],
   "source": [
    "training_set_list = [path+i for i in os.listdir(path)]"
   ]
  },
  {
   "cell_type": "code",
   "execution_count": 10,
   "metadata": {},
   "outputs": [
    {
     "data": {
      "text/plain": [
       "(1743042, '../dataset/256/000002b66c9c498e_resized.jpg')"
      ]
     },
     "execution_count": 10,
     "metadata": {},
     "output_type": "execute_result"
    }
   ],
   "source": [
    "len(training_set_list),training_set_list[0]"
   ]
  },
  {
   "cell_type": "code",
   "execution_count": null,
   "metadata": {},
   "outputs": [],
   "source": []
  },
  {
   "cell_type": "code",
   "execution_count": 24,
   "metadata": {},
   "outputs": [],
   "source": [
    "train_batches_queue = Queue(maxsize=12)\n",
    "cuda_batches_queue = Queue(maxsize=3)"
   ]
  },
  {
   "cell_type": "code",
   "execution_count": 25,
   "metadata": {},
   "outputs": [],
   "source": [
    "training_set_generator = InputGen(training_set_list,batches_per_epoch)"
   ]
  },
  {
   "cell_type": "code",
   "execution_count": null,
   "metadata": {},
   "outputs": [],
   "source": []
  },
  {
   "cell_type": "code",
   "execution_count": 26,
   "metadata": {},
   "outputs": [],
   "source": [
    "train_thread_killer = thread_killer()\n",
    "train_thread_killer.set_tokill(False)"
   ]
  },
  {
   "cell_type": "code",
   "execution_count": null,
   "metadata": {},
   "outputs": [],
   "source": []
  },
  {
   "cell_type": "code",
   "execution_count": null,
   "metadata": {},
   "outputs": [],
   "source": []
  },
  {
   "cell_type": "code",
   "execution_count": null,
   "metadata": {},
   "outputs": [],
   "source": [
    "for _ in range(preprocess_workers):\n",
    "    t = Thread(target=threaded_batches_feeder,args=(train_thread_killer, train_batches_queue, training_set_generator))\n",
    "    t.start()"
   ]
  },
  {
   "cell_type": "code",
   "execution_count": 22,
   "metadata": {},
   "outputs": [],
   "source": [
    "cuda_transfers_thread_killer = thread_killer()\n",
    "cuda_transfers_thread_killer.set_tokill(False)\n",
    "cudathread = Thread(target=threaded_cuda_batches,args=(cuda_transfers_thread_killer, cuda_batches_queue, train_batches_queue))\n",
    "cudathread.start()"
   ]
  },
  {
   "cell_type": "code",
   "execution_count": null,
   "metadata": {},
   "outputs": [
    {
     "name": "stdout",
     "output_type": "stream",
     "text": [
      "hi\n",
      "0\n"
     ]
    }
   ],
   "source": [
    "\n"
   ]
  },
  {
   "cell_type": "code",
   "execution_count": null,
   "metadata": {},
   "outputs": [],
   "source": []
  },
  {
   "cell_type": "code",
   "execution_count": null,
   "metadata": {},
   "outputs": [],
   "source": [
    "  \n",
    "  #model is some Pytorch CNN model\n",
    "  model.cuda()\n",
    "  model.train()\n",
    "  \n",
    "  #Training set list suppose to be a list of full-paths for all\n",
    "  #the training images.\n",
    "  \n",
    "  #Our train batches queue can hold at max 12 batches at any given time.\n",
    "  #Once the queue is filled the queue is locked.\n",
    "  \n",
    "  #Our numpy batches cuda transferer queue.\n",
    "  #Once the queue is filled the queue is locked\n",
    "  #We set maxsize to 3 due to GPU memory size limitations\n",
    "  \n",
    "  \n",
    "  \n",
    "  \n",
    "  #We launch 4 threads to do load && pre-process the input images\n",
    "\n",
    "\n"
   ]
  },
  {
   "cell_type": "code",
   "execution_count": null,
   "metadata": {},
   "outputs": [],
   "source": []
  }
 ],
 "metadata": {
  "kernelspec": {
   "display_name": "Python 3",
   "language": "python",
   "name": "python3"
  },
  "language_info": {
   "codemirror_mode": {
    "name": "ipython",
    "version": 3
   },
   "file_extension": ".py",
   "mimetype": "text/x-python",
   "name": "python",
   "nbconvert_exporter": "python",
   "pygments_lexer": "ipython3",
   "version": "3.8.2"
  }
 },
 "nbformat": 4,
 "nbformat_minor": 4
}
