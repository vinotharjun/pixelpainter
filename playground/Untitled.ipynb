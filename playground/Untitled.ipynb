{
 "cells": [
  {
   "cell_type": "code",
   "execution_count": 1,
   "metadata": {},
   "outputs": [],
   "source": [
    "import sys\n",
    "sys.path.append(\"../\")\n",
    "from painter import *"
   ]
  },
  {
   "cell_type": "code",
   "execution_count": 2,
   "metadata": {},
   "outputs": [],
   "source": [
    "\n",
    "from painter.networks.partialUnet import PartialConvUNet\n",
    "from painter.data.openimages_dataset import OpenImages\n",
    "from painter.data.genmask import MaskGenerator\n",
    "from painter.imports import *\n",
    "from painter.utils import *\n",
    "# from painter.networks.layers import PartialConv\n",
    "%load_ext autoreload\n",
    "%autoreload 2\n",
    " "
   ]
  },
  {
   "cell_type": "code",
   "execution_count": null,
   "metadata": {},
   "outputs": [],
   "source": []
  },
  {
   "cell_type": "code",
   "execution_count": null,
   "metadata": {},
   "outputs": [],
   "source": []
  },
  {
   "cell_type": "code",
   "execution_count": 4,
   "metadata": {},
   "outputs": [],
   "source": [
    "from painter.networks.trash import *\n",
    "generator = PConvUNet().to(device)"
   ]
  },
  {
   "cell_type": "code",
   "execution_count": 5,
   "metadata": {},
   "outputs": [],
   "source": [
    "generator = PartialConvUNet().to(device)"
   ]
  },
  {
   "cell_type": "code",
   "execution_count": 6,
   "metadata": {},
   "outputs": [],
   "source": [
    "train_dataset = OpenImages((64,64),datatype=\"train\",load_mask=False,normalize=False)\n",
    "val_dataset = OpenImages((64,64),datatype=\"validation\",load_mask=False,normalize=False)"
   ]
  },
  {
   "cell_type": "code",
   "execution_count": null,
   "metadata": {},
   "outputs": [],
   "source": []
  },
  {
   "cell_type": "code",
   "execution_count": 7,
   "metadata": {},
   "outputs": [
    {
     "name": "stdout",
     "output_type": "stream",
     "text": [
      "Shape of image is: torch.Size([3, 64, 64])\n"
     ]
    },
    {
     "data": {
      "image/png": "[encoded data removed]",
      "text/plain": [
       "<Figure size 1440x360 with 3 Axes>"
      ]
     },
     "metadata": {
      "needs_background": "light"
     },
     "output_type": "display_data"
    },
    {
     "name": "stdout",
     "output_type": "stream",
     "text": [
      "(tensor(0.0039), tensor(0.)) (tensor(0.9373), tensor(0.)) (tensor(1.), tensor(0.1882))\n"
     ]
    }
   ],
   "source": [
    "\n",
    "datas = train_dataset[45]\n",
    "img = datas[\"ground_truth\"]\n",
    "shape = img.shape\n",
    "print(f\"Shape of image is: {shape}\")\n",
    "masked_img =  datas[\"input\"]\n",
    "mask = datas[\"mask\"]\n",
    "_, axes = plt.subplots(1, 3, figsize=(20, 5))\n",
    "axes[0].imshow(im_convert(img,denormalize=False))\n",
    "axes[1].imshow(im_convert(mask,denormalize=False)*255)\n",
    "axes[2].imshow(im_convert(masked_img,denormalize=False))\n",
    "plt.show()\n",
    "print(minmax(mask),minmax(masked_img),minmax(img))"
   ]
  },
  {
   "cell_type": "code",
   "execution_count": 8,
   "metadata": {},
   "outputs": [],
   "source": [
    "train_dataloader = DataLoader(train_dataset,batch_size=1,num_workers=0)\n",
    "val_dataloader = DataLoader(val_dataset,batch_size=1,num_workers=0)"
   ]
  },
  {
   "cell_type": "code",
   "execution_count": null,
   "metadata": {},
   "outputs": [],
   "source": []
  },
  {
   "cell_type": "code",
   "execution_count": 10,
   "metadata": {},
   "outputs": [
    {
     "name": "stderr",
     "output_type": "stream",
     "text": [
      "Downloading: \"https://download.pytorch.org/models/vgg16-397923af.pth\" to C:\\Users\\Dhanya/.cache\\torch\\checkpoints\\vgg16-397923af.pth\n"
     ]
    },
    {
     "data": {
      "application/vnd.jupyter.widget-view+json": {
       "model_id": "da2f1c0bb3744a4b96cdd549d1e09a7b",
       "version_major": 2,
       "version_minor": 0
      },
      "text/plain": [
       "HBox(children=(FloatProgress(value=0.0, max=553433881.0), HTML(value='')))"
      ]
     },
     "metadata": {},
     "output_type": "display_data"
    },
    {
     "name": "stdout",
     "output_type": "stream",
     "text": [
      "\n"
     ]
    },
    {
     "ename": "NameError",
     "evalue": "name 'device' is not defined",
     "output_type": "error",
     "traceback": [
      "\u001b[1;31m---------------------------------------------------------------------------\u001b[0m",
      "\u001b[1;31mNameError\u001b[0m                                 Traceback (most recent call last)",
      "\u001b[1;32m<ipython-input-10-8da4dea1f30d>\u001b[0m in \u001b[0;36m<module>\u001b[1;34m\u001b[0m\n\u001b[0;32m      1\u001b[0m \u001b[1;31m# from painter.losses import PartialConvFeatureLoss\u001b[0m\u001b[1;33m\u001b[0m\u001b[1;33m\u001b[0m\u001b[1;33m\u001b[0m\u001b[0m\n\u001b[0;32m      2\u001b[0m \u001b[1;31m# criterion = PartialConvFeatureLoss().to(device)\u001b[0m\u001b[1;33m\u001b[0m\u001b[1;33m\u001b[0m\u001b[1;33m\u001b[0m\u001b[0m\n\u001b[1;32m----> 3\u001b[1;33m \u001b[0mcriterion\u001b[0m \u001b[1;33m=\u001b[0m \u001b[0mInpaintingLoss\u001b[0m\u001b[1;33m(\u001b[0m\u001b[1;33m)\u001b[0m\u001b[1;33m\u001b[0m\u001b[1;33m\u001b[0m\u001b[0m\n\u001b[0m",
      "\u001b[1;32m~\\Desktop\\workspace\\pixelpainter\\painter\\networks\\trash.py\u001b[0m in \u001b[0;36m__init__\u001b[1;34m(self)\u001b[0m\n\u001b[0;32m    217\u001b[0m         \u001b[0msuper\u001b[0m\u001b[1;33m(\u001b[0m\u001b[1;33m)\u001b[0m\u001b[1;33m.\u001b[0m\u001b[0m__init__\u001b[0m\u001b[1;33m(\u001b[0m\u001b[1;33m)\u001b[0m\u001b[1;33m\u001b[0m\u001b[1;33m\u001b[0m\u001b[0m\n\u001b[0;32m    218\u001b[0m         \u001b[0mself\u001b[0m\u001b[1;33m.\u001b[0m\u001b[0ml1\u001b[0m \u001b[1;33m=\u001b[0m \u001b[0mnn\u001b[0m\u001b[1;33m.\u001b[0m\u001b[0mL1Loss\u001b[0m\u001b[1;33m(\u001b[0m\u001b[1;33m)\u001b[0m\u001b[1;33m\u001b[0m\u001b[1;33m\u001b[0m\u001b[0m\n\u001b[1;32m--> 219\u001b[1;33m         \u001b[0mself\u001b[0m\u001b[1;33m.\u001b[0m\u001b[0mextractor\u001b[0m \u001b[1;33m=\u001b[0m \u001b[0mVGG16FeatureExtractor\u001b[0m\u001b[1;33m(\u001b[0m\u001b[1;33m)\u001b[0m\u001b[1;33m.\u001b[0m\u001b[0mto\u001b[0m\u001b[1;33m(\u001b[0m\u001b[0mdevice\u001b[0m\u001b[1;33m)\u001b[0m\u001b[1;33m\u001b[0m\u001b[1;33m\u001b[0m\u001b[0m\n\u001b[0m\u001b[0;32m    220\u001b[0m \u001b[1;33m\u001b[0m\u001b[0m\n\u001b[0;32m    221\u001b[0m     \u001b[1;32mdef\u001b[0m \u001b[0mforward\u001b[0m\u001b[1;33m(\u001b[0m\u001b[0mself\u001b[0m\u001b[1;33m,\u001b[0m \u001b[0minput\u001b[0m\u001b[1;33m,\u001b[0m \u001b[0mmask\u001b[0m\u001b[1;33m,\u001b[0m \u001b[0moutput\u001b[0m\u001b[1;33m,\u001b[0m \u001b[0mgt\u001b[0m\u001b[1;33m)\u001b[0m\u001b[1;33m:\u001b[0m\u001b[1;33m\u001b[0m\u001b[1;33m\u001b[0m\u001b[0m\n",
      "\u001b[1;31mNameError\u001b[0m: name 'device' is not defined"
     ]
    }
   ],
   "source": [
    "from painter.losses import PartialConvFeatureLoss\n",
    "criterion = PartialConvFeatureLoss().to(device)\n",
    "criterion = InpaintingLoss()"
   ]
  },
  {
   "cell_type": "code",
   "execution_count": 108,
   "metadata": {},
   "outputs": [
    {
     "name": "stdout",
     "output_type": "stream",
     "text": [
      "No checkpoint path provided so loading from the starting point\n"
     ]
    }
   ],
   "source": [
    "from painter.training.trainer import Trainer\n",
    "trainer = Trainer(generator,train_loader=train_dataloader,validation_loader=val_dataloader,criterion=criterion)"
   ]
  },
  {
   "cell_type": "code",
   "execution_count": 74,
   "metadata": {},
   "outputs": [],
   "source": [
    "import wandb"
   ]
  },
  {
   "cell_type": "code",
   "execution_count": 76,
   "metadata": {},
   "outputs": [
    {
     "name": "stderr",
     "output_type": "stream",
     "text": [
      "wandb: ERROR Not authenticated.  Copy a key from https://app.wandb.ai/authorize\n"
     ]
    },
    {
     "name": "stdin",
     "output_type": "stream",
     "text": [
      "API Key:  ········································\n"
     ]
    },
    {
     "name": "stderr",
     "output_type": "stream",
     "text": [
      "wandb: Appending key for api.wandb.ai to your netrc file: C:\\Users\\Dhanya/.netrc\n"
     ]
    },
    {
     "data": {
      "text/html": [
       "\n",
       "                Logging results to <a href=\"https://wandb.com\" target=\"_blank\">Weights & Biases</a> <a href=\"https://docs.wandb.com/integrations/jupyter.html\" target=\"_blank\">(Documentation)</a>.<br/>\n",
       "                Project page: <a href=\"https://app.wandb.ai/verticalvector/uncategorized\" target=\"_blank\">https://app.wandb.ai/verticalvector/uncategorized</a><br/>\n",
       "                Run page: <a href=\"https://app.wandb.ai/verticalvector/uncategorized/runs/1y72n0o4\" target=\"_blank\">https://app.wandb.ai/verticalvector/uncategorized/runs/1y72n0o4</a><br/>\n",
       "            "
      ],
      "text/plain": [
       "<IPython.core.display.HTML object>"
      ]
     },
     "metadata": {},
     "output_type": "display_data"
    },
    {
     "data": {
      "text/plain": [
       "W&B Run: https://app.wandb.ai/verticalvector/uncategorized/runs/1y72n0o4"
      ]
     },
     "execution_count": 76,
     "metadata": {},
     "output_type": "execute_result"
    }
   ],
   "source": [
    "wandb.init()"
   ]
  },
  {
   "cell_type": "code",
   "execution_count": null,
   "metadata": {},
   "outputs": [
    {
     "name": "stdout",
     "output_type": "stream",
     "text": [
      "0\n",
      "Epoch:0 [0/104] content loss :3.0122647285461426\n",
      "1\n",
      "Epoch:0 [1/104] content loss :3.804107189178467\n",
      "2\n",
      "Epoch:0 [2/104] content loss :3.5995333194732666\n",
      "3\n",
      "Epoch:0 [3/104] content loss :3.5928289890289307\n",
      "4\n",
      "Epoch:0 [4/104] content loss :3.4767558574676514\n",
      "5\n",
      "Epoch:0 [5/104] content loss :2.0162532329559326\n",
      "6\n",
      "Epoch:0 [6/104] content loss :1.1986521482467651\n",
      "7\n",
      "Epoch:0 [7/104] content loss :1.4315690994262695\n",
      "8\n",
      "Epoch:0 [8/104] content loss :1.581488847732544\n",
      "9\n",
      "Epoch:0 [9/104] content loss :1.012591004371643\n",
      "10\n",
      "Epoch:0 [10/104] content loss :2.924837589263916\n",
      "11\n",
      "Epoch:0 [11/104] content loss :3.313382863998413\n",
      "12\n",
      "Epoch:0 [12/104] content loss :2.5508413314819336\n",
      "13\n",
      "Epoch:0 [13/104] content loss :3.264333486557007\n",
      "14\n",
      "Epoch:0 [14/104] content loss :3.8433055877685547\n",
      "15\n",
      "Epoch:0 [15/104] content loss :3.328616142272949\n",
      "16\n",
      "Epoch:0 [16/104] content loss :2.288543224334717\n",
      "17\n",
      "Epoch:0 [17/104] content loss :1.94131338596344\n",
      "18\n",
      "Epoch:0 [18/104] content loss :3.0298638343811035\n",
      "19\n",
      "Epoch:0 [19/104] content loss :2.865873336791992\n",
      "20\n",
      "Epoch:0 [20/104] content loss :3.1799917221069336\n",
      "21\n",
      "Epoch:0 [21/104] content loss :3.007924795150757\n",
      "22\n",
      "Epoch:0 [22/104] content loss :2.9037368297576904\n",
      "23\n"
     ]
    },
    {
     "name": "stderr",
     "output_type": "stream",
     "text": [
      "ERROR:root:Internal Python error in the inspect module.\n",
      "Below is the traceback from this internal error.\n",
      "\n"
     ]
    },
    {
     "name": "stdout",
     "output_type": "stream",
     "text": [
      "Error in callback <bound method AutoreloadMagics.post_execute_hook of <autoreload.AutoreloadMagics object at 0x0000009E3DB6F888>> (for post_execute):\n"
     ]
    }
   ],
   "source": [
    "trainer.train_model(start=0, end=1, b=0,eb=-1,val_loss_best=1e9,interval_verbose=1)"
   ]
  },
  {
   "cell_type": "code",
   "execution_count": null,
   "metadata": {},
   "outputs": [],
   "source": []
  },
  {
   "cell_type": "code",
   "execution_count": null,
   "metadata": {},
   "outputs": [],
   "source": []
  },
  {
   "cell_type": "code",
   "execution_count": null,
   "metadata": {},
   "outputs": [],
   "source": []
  },
  {
   "cell_type": "code",
   "execution_count": null,
   "metadata": {},
   "outputs": [],
   "source": []
  },
  {
   "cell_type": "code",
   "execution_count": null,
   "metadata": {},
   "outputs": [],
   "source": []
  }
 ],
 "metadata": {
  "kernelspec": {
   "display_name": "Python 3",
   "language": "python",
   "name": "python3"
  },
  "language_info": {
   "codemirror_mode": {
    "name": "ipython",
    "version": 3
   },
   "file_extension": ".py",
   "mimetype": "text/x-python",
   "name": "python",
   "nbconvert_exporter": "python",
   "pygments_lexer": "ipython3",
   "version": "3.7.6"
  }
 },
 "nbformat": 4,
 "nbformat_minor": 4
}
